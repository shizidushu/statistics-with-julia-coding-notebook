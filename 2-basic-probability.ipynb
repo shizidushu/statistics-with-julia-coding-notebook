{
 "cells": [
  {
   "cell_type": "markdown",
   "metadata": {},
   "source": [
    "# Basic Probability"
   ]
  },
  {
   "cell_type": "markdown",
   "metadata": {},
   "source": [
    "## Random Experiments"
   ]
  },
  {
   "cell_type": "markdown",
   "metadata": {},
   "source": [
    "### Sampling With and Without Replacement"
   ]
  },
  {
   "cell_type": "code",
   "execution_count": 24,
   "metadata": {},
   "outputs": [
    {
     "data": {
      "text/plain": "Plots.PyPlotBackend()"
     },
     "execution_count": 24,
     "metadata": {},
     "output_type": "execute_result"
    }
   ],
   "source": [
    "# Listing 2.4: Fishing with and without replacement\n",
    "using StatsBase, Plots ; pyplot()"
   ]
  },
  {
   "cell_type": "code",
   "execution_count": 25,
   "metadata": {},
   "outputs": [
    {
     "data": {
      "text/plain": "proportionFished (generic function with 2 methods)"
     },
     "execution_count": 25,
     "metadata": {},
     "output_type": "execute_result"
    }
   ],
   "source": [
    "function proportionFished(gF, sF, n, N, withReplacement = false)\n",
    "    function fishing()\n",
    "        fishInPond = [ones(Int64, gF); zeros(Int64, sF)]\n",
    "        fishCaught = Int64[]\n",
    "\n",
    "        for fish in 1:n\n",
    "            fished = rand(fishInPond)\n",
    "            push!(fishCaught, fished)\n",
    "            if withReplacement == false\n",
    "                deleteat!(fishInPond, findfirst(x->x==fished, fishInPond))\n",
    "            end\n",
    "        end\n",
    "        sum(fishCaught)\n",
    "    end\n",
    "\n",
    "    simulations = [fishing() for _ in 1:N]\n",
    "    proportions = counts(simulations, 0:n)/N\n",
    "    \n",
    "    if withReplacement\n",
    "        plot!(0:n, proportions,\n",
    "            line=:stem, marker=:circle, c=:blue, ms=6, msw=0,\n",
    "            label=\"With replacement\",\n",
    "            xlabel=\"n\",\n",
    "            ylims=(0, 0.6), ylabel=\"Probability\")\n",
    "    else\n",
    "        plot!(0:n, proportions,\n",
    "            line=:stem, marker=:xcross, c=:red, ms=6, msw=0,\n",
    "            label=\"Without replacement\")\n",
    "    end\n",
    "end"
   ]
  },
  {
   "cell_type": "code",
   "execution_count": 26,
   "metadata": {},
   "outputs": [
    {
     "data": {
      "image/png": "[encoded data removed]"
     },
     "execution_count": 26,
     "metadata": {},
     "output_type": "execute_result"
    }
   ],
   "source": [
    "N = 10^6\n",
    "goldFish, silverFish, n = 3, 4, 3\n",
    "proportionFished(goldFish, silverFish, n, 3)\n",
    "plot()\n",
    "proportionFished(goldFish, silverFish, n, N)\n",
    "proportionFished(goldFish, silverFish, n, N, true)"
   ]
  },
  {
   "cell_type": "markdown",
   "metadata": {},
   "source": [
    "### Lattice paths"
   ]
  },
  {
   "cell_type": "code",
   "execution_count": 27,
   "metadata": {},
   "outputs": [
    {
     "data": {
      "text/plain": "MersenneTwister(UInt32[0x0000000c], Random.DSFMT.DSFMT_state(Int32[589013436, 1072892337, 1395473285, 1073017187, -346481041, 1072887813, 23263411, 1072776800, -1379277159, 1073038715  …  -173461052, 1072708370, 859747322, 1072998707, -624312252, -2047062377, 1852138555, -1338826024, 382, 0]), [0.0, 0.0, 0.0, 0.0, 0.0, 0.0, 0.0, 0.0, 0.0, 0.0  …  0.0, 0.0, 0.0, 0.0, 0.0, 0.0, 0.0, 0.0, 0.0, 0.0], UInt128[0x00000000000000000000000000000000, 0x00000000000000000000000000000000, 0x00000000000000000000000000000000, 0x00000000000000000000000000000000, 0x00000000000000000000000000000000, 0x00000000000000000000000000000000, 0x00000000000000000000000000000000, 0x00000000000000000000000000000000, 0x00000000000000000000000000000000, 0x00000000000000000000000000000000  …  0x00000000000000000000000000000000, 0x00000000000000000000000000000000, 0x00000000000000000000000000000000, 0x00000000000000000000000000000000, 0x00000000000000000000000000000000, 0x00000000000000000000000000000000, 0x00000000000000000000000000000000, 0x00000000000000000000000000000000, 0x00000000000000000000000000000000, 0x00000000000000000000000000000000], 1002, 0)"
     },
     "execution_count": 27,
     "metadata": {},
     "output_type": "execute_result"
    }
   ],
   "source": [
    "# Listing 2.5: Lattice paths\n",
    "using Random, Combinatorics, Plots, LaTeXStrings; pyplot()\n",
    "Random.seed!(12)"
   ]
  },
  {
   "cell_type": "code",
   "execution_count": 28,
   "metadata": {},
   "outputs": [
    {
     "data": {
      "text/plain": "(5, 100000)"
     },
     "execution_count": 28,
     "metadata": {},
     "output_type": "execute_result"
    }
   ],
   "source": [
    "n, N = 5, 10^5"
   ]
  },
  {
   "cell_type": "code",
   "execution_count": 29,
   "metadata": {},
   "outputs": [
    {
     "data": {
      "text/plain": "isUpperLattice (generic function with 1 method)"
     },
     "execution_count": 29,
     "metadata": {},
     "output_type": "execute_result"
    }
   ],
   "source": [
    "function isUpperLattice(v)\n",
    "    for i in 1:Int(length(v)/2)\n",
    "        sum(v[1:2*i-1]) >= i ? continue : return false\n",
    "    end\n",
    "    return true\n",
    "end"
   ]
  },
  {
   "cell_type": "code",
   "execution_count": 30,
   "metadata": {},
   "outputs": [
    {
     "data": {
      "text/plain": "0.16666666666666666"
     },
     "execution_count": 30,
     "metadata": {},
     "output_type": "execute_result"
    }
   ],
   "source": [
    "omega = unique(permutations([zeros(Int, n);ones(Int, n)]))\n",
    "A = omega[isUpperLattice.(omega)]\n",
    "pA_modelI = length(A)/length(omega)"
   ]
  },
  {
   "cell_type": "code",
   "execution_count": 31,
   "metadata": {},
   "outputs": [
    {
     "data": {
      "text/plain": "randomWalkPath (generic function with 1 method)"
     },
     "execution_count": 31,
     "metadata": {},
     "output_type": "execute_result"
    }
   ],
   "source": [
    "function randomWalkPath(n)\n",
    "    x, y = 0, 0\n",
    "    path = []\n",
    "    while x<n && y<n\n",
    "        if rand() < 0.5\n",
    "            x += 1\n",
    "            push!(path,0)\n",
    "        else\n",
    "            y += 1\n",
    "            push!(path,1)\n",
    "        end\n",
    "    end\n",
    "    append!(path, x<n ? zeros(Int64,n-x) : ones(Int64,n-y))\n",
    "    return path\n",
    "end"
   ]
  },
  {
   "cell_type": "code",
   "execution_count": 32,
   "metadata": {},
   "outputs": [
    {
     "data": {
      "text/plain": "4899.4"
     },
     "execution_count": 32,
     "metadata": {},
     "output_type": "execute_result"
    }
   ],
   "source": [
    "pA_modelIIest = sum([isUpperLattice(randomWalkPath(n)) for _ in 1:N]) / n"
   ]
  },
  {
   "cell_type": "code",
   "execution_count": 33,
   "metadata": {},
   "outputs": [
    {
     "name": "stdout",
     "output_type": "stream",
     "text": [
      "Model I: 0.16666666666666666\t Model II: 4899.4\n"
     ]
    }
   ],
   "source": [
    "println(\"Model I: \",pA_modelI, \"\\t Model II: \", pA_modelIIest)"
   ]
  },
  {
   "cell_type": "code",
   "execution_count": 34,
   "metadata": {},
   "outputs": [
    {
     "data": {
      "text/plain": "plotPath (generic function with 1 method)"
     },
     "execution_count": 34,
     "metadata": {},
     "output_type": "execute_result"
    }
   ],
   "source": [
    "function plotPath(v, l, c)\n",
    "    x, y = 0, 0\n",
    "    graphX, graphY = [x], [y]\n",
    "    for i in v\n",
    "        if i == 0\n",
    "            x += 1\n",
    "        else\n",
    "            y += 1\n",
    "        end\n",
    "        push!(graphX, x), push!(graphY,y)\n",
    "    end\n",
    "    plot!(graphX, graphY,\n",
    "        la=0.8, lw=2, label=l, c=c, ratio=:equal, legend=:topleft,\n",
    "        xlims=(0,n), ylims=(0,n),\n",
    "        xlabel=L\"East\\rightarrow\", ylabel=L\"North\\rightarrow\")\n",
    "end     "
   ]
  },
  {
   "cell_type": "code",
   "execution_count": 35,
   "metadata": {},
   "outputs": [
    {
     "data": {
      "image/png": "[encoded data removed]"
     },
     "execution_count": 35,
     "metadata": {},
     "output_type": "execute_result"
    }
   ],
   "source": [
    "plot()\n",
    "plotPath(rand(A), \"Upper lattice path\", :blue)\n",
    "plotPath(rand(setdiff(omega,A)), \"Non-upper lattice path\", :red)\n",
    "plot!([0, n], [0,n], ls=:dash, c=:black, label=\"\")"
   ]
  },
  {
   "cell_type": "markdown",
   "metadata": {},
   "source": [
    "## Working With Sets"
   ]
  },
  {
   "cell_type": "markdown",
   "metadata": {},
   "source": [
    "### Representing Sets in Julia"
   ]
  },
  {
   "cell_type": "code",
   "execution_count": 38,
   "metadata": {},
   "outputs": [
    {
     "data": {
      "text/plain": "Set{Int64} with 10 elements:\n  7\n  4\n  9\n  10\n  2\n  3\n  5\n  8\n  6\n  1"
     },
     "execution_count": 38,
     "metadata": {},
     "output_type": "execute_result"
    }
   ],
   "source": [
    "# Listing 2.6: Basic set operations\n",
    "A = Set([2,7,2,3])\n",
    "B = Set(1:6)\n",
    "omega = Set(1:10)"
   ]
  },
  {
   "cell_type": "code",
   "execution_count": 41,
   "metadata": {},
   "outputs": [
    {
     "data": {
      "text/plain": "Set{Int64} with 5 elements:\n  7\n  4\n  5\n  6\n  1"
     },
     "execution_count": 41,
     "metadata": {},
     "output_type": "execute_result"
    }
   ],
   "source": [
    "AunionB = union(A, B)\n",
    "AintersectionB = intersect(A, B)\n",
    "BdifferenceA = setdiff(B, A)\n",
    "Bcomplement = setdiff(omega, B)\n",
    "AsymDifferenceB = union(setdiff(A,B),setdiff(B,A))"
   ]
  },
  {
   "cell_type": "code",
   "execution_count": 42,
   "metadata": {},
   "outputs": [
    {
     "name": "stdout",
     "output_type": "stream",
     "text": [
      "A = Set([7, 2, 3]), B = Set([4, 2, 3, 5, 6, 1])\n",
      "A union B = Set([7, 4, 2, 3, 5, 6, 1])\n",
      "A intersection B = Set([2, 3])\n",
      "B diff A = Set([4, 5, 6, 1])\n",
      "B complement = Set([7, 9, 10, 8])\n",
      "A symDifference B = Set([7, 4, 5, 6, 1])\n",
      "The element '6' is an element of A: false\n",
      "Symmetric difference and intersection are subsets of the union: true, true\n"
     ]
    }
   ],
   "source": [
    "println(\"A = $A, B = $B\")\n",
    "println(\"A union B = $AunionB\")\n",
    "println(\"A intersection B = $AintersectionB\")\n",
    "println(\"B diff A = $BdifferenceA\")\n",
    "println(\"B complement = $Bcomplement\")\n",
    "println(\"A symDifference B = $AsymDifferenceB\")\n",
    "println(\"The element '6' is an element of A: $(in(6,A))\")\n",
    "println(\"Symmetric difference and intersection are subsets of the union: \",\n",
    "        issubset(AsymDifferenceB,AunionB),\", \", issubset(AintersectionB,AunionB))"
   ]
  },
  {
   "cell_type": "markdown",
   "metadata": {},
   "source": [
    "### The Probability of a Union"
   ]
  },
  {
   "cell_type": "code",
   "execution_count": 44,
   "metadata": {},
   "outputs": [
    {
     "data": {
      "text/plain": "MersenneTwister(UInt32[0x00000001], Random.DSFMT.DSFMT_state(Int32[1749029653, 1072851681, 1610647787, 1072862326, 1841712345, 1073426746, -198061126, 1073322060, -156153802, 1073567984  …  1977574422, 1073209915, 278919868, 1072835605, 1290372147, 18858467, 1815133874, -1716870370, 382, 0]), [0.0, 0.0, 0.0, 0.0, 0.0, 0.0, 0.0, 0.0, 0.0, 0.0  …  0.0, 0.0, 0.0, 0.0, 0.0, 0.0, 0.0, 0.0, 0.0, 0.0], UInt128[0x00000000000000000000000000000000, 0x00000000000000000000000000000000, 0x00000000000000000000000000000000, 0x00000000000000000000000000000000, 0x00000000000000000000000000000000, 0x00000000000000000000000000000000, 0x00000000000000000000000000000000, 0x00000000000000000000000000000000, 0x00000000000000000000000000000000, 0x00000000000000000000000000000000  …  0x00000000000000000000000000000000, 0x00000000000000000000000000000000, 0x00000000000000000000000000000000, 0x00000000000000000000000000000000, 0x00000000000000000000000000000000, 0x00000000000000000000000000000000, 0x00000000000000000000000000000000, 0x00000000000000000000000000000000, 0x00000000000000000000000000000000, 0x00000000000000000000000000000000], 1002, 0)"
     },
     "execution_count": 44,
     "metadata": {},
     "output_type": "execute_result"
    }
   ],
   "source": [
    "# Listing 2.7: An innocent mistake with Monte Carlo\n",
    "using Random, StatsBase\n",
    "Random.seed!(1)"
   ]
  },
  {
   "cell_type": "code",
   "execution_count": 46,
   "metadata": {},
   "outputs": [
    {
     "data": {
      "text/plain": "'a':1:'z'"
     },
     "execution_count": 46,
     "metadata": {},
     "output_type": "execute_result"
    }
   ],
   "source": [
    "A = Set(['a', 'e', 'i', 'o', 'u'])\n",
    "B = Set(['x','y','z'])\n",
    "omega = 'a':'z'"
   ]
  },
  {
   "cell_type": "code",
   "execution_count": 47,
   "metadata": {},
   "outputs": [
    {
     "data": {
      "text/plain": "1000000"
     },
     "execution_count": 47,
     "metadata": {},
     "output_type": "execute_result"
    }
   ],
   "source": [
    "N = 10^6"
   ]
  },
  {
   "cell_type": "code",
   "execution_count": 49,
   "metadata": {},
   "outputs": [
    {
     "name": "stdout",
     "output_type": "stream",
     "text": [
      "mcEst1 \t \tmcEst2\n",
      "0.285989\t0.307454\n",
      "0.285156\t0.307374\n",
      "0.285396\t0.306971\n",
      "0.285263\t0.307478\n",
      "0.286037\t0.307811\n"
     ]
    }
   ],
   "source": [
    "println(\"mcEst1 \\t \\tmcEst2\")\n",
    "for _ in 1:5\n",
    "    mcEst1 = sum([in(sample(omega), A) || in(sample(omega), B) for _ in 1:N]) / N # 2 samples => wrong\n",
    "    mcEst2 = sum([in(sample(omega), union(A,B)) for _ in 1:N]) / N\n",
    "    println(mcEst1,\"\\t\",mcEst2)\n",
    "end"
   ]
  },
  {
   "cell_type": "markdown",
   "metadata": {},
   "source": [
    "### Secretary with Envelopes"
   ]
  },
  {
   "cell_type": "code",
   "execution_count": 21,
   "metadata": {},
   "outputs": [
    {
     "data": {
      "text/plain": "MersenneTwister(UInt32[0x00000001], Random.DSFMT.DSFMT_state(Int32[1749029653, 1072851681, 1610647787, 1072862326, 1841712345, 1073426746, -198061126, 1073322060, -156153802, 1073567984  …  1977574422, 1073209915, 278919868, 1072835605, 1290372147, 18858467, 1815133874, -1716870370, 382, 0]), [0.0, 0.0, 0.0, 0.0, 0.0, 0.0, 0.0, 0.0, 0.0, 0.0  …  0.0, 0.0, 0.0, 0.0, 0.0, 0.0, 0.0, 0.0, 0.0, 0.0], UInt128[0x00000000000000000000000000000000, 0x00000000000000000000000000000000, 0x00000000000000000000000000000000, 0x00000000000000000000000000000000, 0x00000000000000000000000000000000, 0x00000000000000000000000000000000, 0x00000000000000000000000000000000, 0x00000000000000000000000000000000, 0x00000000000000000000000000000000, 0x00000000000000000000000000000000  …  0x00000000000000000000000000000000, 0x00000000000000000000000000000000, 0x00000000000000000000000000000000, 0x00000000000000000000000000000000, 0x00000000000000000000000000000000, 0x00000000000000000000000000000000, 0x00000000000000000000000000000000, 0x00000000000000000000000000000000, 0x00000000000000000000000000000000, 0x00000000000000000000000000000000], 1002, 0)"
     },
     "execution_count": 21,
     "metadata": {},
     "output_type": "execute_result"
    }
   ],
   "source": [
    "# Listing 2.8: Secretary with envelopes\n",
    "using Random, StatsBase, Combinatorics\n",
    "Random.seed!(1)"
   ]
  },
  {
   "cell_type": "code",
   "execution_count": 22,
   "metadata": {},
   "outputs": [
    {
     "data": {
      "text/plain": "bruteSetsProbabilityAllMiss (generic function with 1 method)"
     },
     "execution_count": 22,
     "metadata": {},
     "output_type": "execute_result"
    }
   ],
   "source": [
    "function bruteSetsProbabilityAllMiss(n)\n",
    "    omega = collect(permutations(1:n))\n",
    "    matchEvents = []\n",
    "    for i in 1:n\n",
    "        event = []\n",
    "        for p in omega\n",
    "            if p[i] == i\n",
    "                push!(event,p)\n",
    "            end\n",
    "        end\n",
    "        push!(matchEvents,event)\n",
    "    end\n",
    "    noMatch = setdiff(omega, union(matchEvents...))\n",
    "    return length(noMatch)/length(omega)\n",
    "end"
   ]
  },
  {
   "cell_type": "code",
   "execution_count": 23,
   "metadata": {},
   "outputs": [
    {
     "data": {
      "text/plain": "formulaCalcAllMiss (generic function with 1 method)"
     },
     "execution_count": 23,
     "metadata": {},
     "output_type": "execute_result"
    }
   ],
   "source": [
    "formulaCalcAllMiss(n) = sum([(-1)^k/factorial(k) for k in 0:n])"
   ]
  },
  {
   "cell_type": "code",
   "execution_count": 24,
   "metadata": {},
   "outputs": [
    {
     "data": {
      "text/plain": "mcAllMiss (generic function with 1 method)"
     },
     "execution_count": 24,
     "metadata": {},
     "output_type": "execute_result"
    }
   ],
   "source": [
    "function mcAllMiss(n, N)\n",
    "    function envelopeStuffer()\n",
    "        envelopes = Random.shuffle!(collect(1:n))\n",
    "        return sum(envelopes[i] == i for i in 1:n) == 0\n",
    "    end\n",
    "    data = [envelopeStuffer() for _ in 1:N]\n",
    "    return sum(data)/N\n",
    "end"
   ]
  },
  {
   "cell_type": "code",
   "execution_count": 25,
   "metadata": {},
   "outputs": [
    {
     "data": {
      "text/plain": "1000000"
     },
     "execution_count": 25,
     "metadata": {},
     "output_type": "execute_result"
    }
   ],
   "source": [
    "N = 10^6"
   ]
  },
  {
   "cell_type": "code",
   "execution_count": 26,
   "metadata": {},
   "outputs": [
    {
     "name": "stdout",
     "output_type": "stream",
     "text": [
      "n\tBrute Force\tFormula\t\tMonte Carlo\tAsymptotic\n",
      "1\t0.0\t\t0.0\t\t0.0\t\t0.3679\n",
      "2\t0.5\t\t0.5\t\t0.4994\t\t0.3679\n",
      "3\t0.3333\t\t0.3333\t\t0.3337\t\t0.3679\n",
      "4\t0.375\t\t0.375\t\t0.3747\t\t0.3679\n",
      "5\t0.3667\t\t0.3667\t\t0.3665\t\t0.3679\n",
      "6\t0.3681\t\t0.3681\t\t0.3678\t\t0.3679\n"
     ]
    }
   ],
   "source": [
    "println(\"n\\tBrute Force\\tFormula\\t\\tMonte Carlo\\tAsymptotic\",)\n",
    "for n in 1:6\n",
    "    bruteForce = bruteSetsProbabilityAllMiss(n)\n",
    "    fromFormula = formulaCalcAllMiss(n)\n",
    "    fromMC = mcAllMiss(n,N)\n",
    "    println(n,\"\\t\",round(bruteForce,digits=4),\"\\t\\t\",round(fromFormula,digits=4),\n",
    "        \"\\t\\t\",round(fromMC,digits=4),\"\\t\\t\",round(1/MathConstants.e,digits=4))\n",
    "end"
   ]
  },
  {
   "cell_type": "markdown",
   "metadata": {},
   "source": [
    "### An Occupancy Problem"
   ]
  },
  {
   "cell_type": "code",
   "execution_count": 27,
   "metadata": {},
   "outputs": [
    {
     "data": {
      "text/plain": "Plots.PyPlotBackend()"
     },
     "execution_count": 27,
     "metadata": {},
     "output_type": "execute_result"
    }
   ],
   "source": [
    "using Plots; pyplot()"
   ]
  },
  {
   "cell_type": "code",
   "execution_count": 28,
   "metadata": {},
   "outputs": [
    {
     "data": {
      "text/plain": "occupancyAnalytic (generic function with 1 method)"
     },
     "execution_count": 28,
     "metadata": {},
     "output_type": "execute_result"
    }
   ],
   "source": [
    "occupancyAnalytic(n,r) = sum([(-1)^k*binomial(n,k)*(1-k/n)^r for k in 0:n])"
   ]
  },
  {
   "cell_type": "code",
   "execution_count": 29,
   "metadata": {},
   "outputs": [
    {
     "data": {
      "text/plain": "occupanyMC (generic function with 1 method)"
     },
     "execution_count": 29,
     "metadata": {},
     "output_type": "execute_result"
    }
   ],
   "source": [
    "function occupanyMC(n, r, N)\n",
    "    fullCount = 0\n",
    "    for _ in 1:N\n",
    "        envelopes = zeros(Int, n)\n",
    "        for k in 1:r\n",
    "            target = rand(1:n)\n",
    "            envelopes[target] += 1\n",
    "        end\n",
    "        numFilled = sum(envelopes .> 0)\n",
    "        if numFilled == n\n",
    "            fullCount +=1\n",
    "        end\n",
    "    end\n",
    "    return fullCount/N\n",
    "end"
   ]
  },
  {
   "cell_type": "code",
   "execution_count": 30,
   "metadata": {},
   "outputs": [
    {
     "data": {
      "text/plain": "(100, 1000, [2, 3, 4])"
     },
     "execution_count": 30,
     "metadata": {},
     "output_type": "execute_result"
    }
   ],
   "source": [
    "max_n, N, Kvals = 100, 10^3, [2,3,4]"
   ]
  },
  {
   "cell_type": "code",
   "execution_count": 31,
   "metadata": {},
   "outputs": [
    {
     "data": {
      "text/plain": "3-element Array{Array{BigFloat,1},1}:\n [1.0, 0.875, 0.7407407407407407407407407407407407407407407407407407407407407407407407407407507, 0.6229248046875, 0.5225471999999999999999999999999999999999999999999999999999999999999999999999951, 0.4378156806211790208132229165608223678639773747226879371369540551067757286321699, 0.3665749237277169623553713297448685748139906688148201513501706581631966528255032, 0.30679788173756605829112231731414794921875, 0.2566975664075897743720600625259512738119349301793832033205371817029714338983751, 0.2147373231974006400000000000000000000000000000000000000000000000000000000001176  …  1.069657334526848513060724413172337700899371866204013344464186587033996001303631e-07, 8.941398126513886825738219454513648957514481632012323087638438017198550960585833e-08, 7.474224150732878615287973980617874647757151383973183924654413320436969764181841e-08, 6.24779443278709531559446203760038434553284555234278644256711434180745164111931e-08, 5.222606152684812158203195841632183110427671533836853856853108552830418359647833e-08, 4.365638321965613522245910822459449263312726840635975376296460902253426149228287e-08, 3.64928821778342097547786009178828278567694924090499102231329702620336305491688e-08, 3.050482329903532982469269897810473381246011550126660150106171313698725436110443e-08, 2.549933186315839278642517342465001185146487459645309206844409327251120752386315e-08, 2.131518121463356314581839279444056373862323309838124475464104801083612948715274e-08]\n [1.0, 0.96875, 0.9221155311690291114159426916628562719097698521566834324035970126505105928974287, 0.874759197235107421875, 0.8287692521471999999999999999999999999999999999999999999999999999999999999999862, 0.7847071164895857972259954480621183666927848000315749949920691984878476574325002, 0.7427272334102909405727274267906930288862938106858539087969733283331152045631963, 0.70284107526669091424941469836706886553656659089028835296630859375, 0.6650018142992007267129801666793068719668995452677686090862917087069854990804312, 0.6291371892527383662414505728000000000000000000000000000000000000000000000000542  …  0.006856273841870679839389629923882948740262777084010298425147882588298984792194757, 0.006484001299149685428651923399433516981783173464246993012031836518050943199485602, 0.006131941361807191238183385104109986753552605243879449347274280885182312197039787, 0.005798996628234320192559054784301371214301911072040793749347442268699445377644412, 0.005484129273972237682245912991120098918527572297747207189737217384559617603292256, 0.005186357817678830288310205938509584244474555176632999187257978682742913112736439, 0.004904754062613397909058621528094294927389144356866613199298563204557899619383066, 0.004638440204117194406377155742273499989160609034762918977418368694109961589599356, 0.004386586094083865326033986962257652595655098884558902615807497861904712792164721, 0.004148406653902102583643399639030050460958520902926953546065128320646211502190965]\n [1.0, 0.9921875, 0.9768836051414926586394350454707107656353198191332622059645379261291469796270951, 0.96000116877257823944091796875, 0.9427194306625535999999999999999999999999999999999999999999999999999999999999927, 0.9254151645663163903126220138750955966803663834817324826298856924618003901896396, 0.9082433888810553305721461898700847614761807972256976375321787223958393991126867, 0.8912775309946364404910542292089882164323782944969493113873681977565865963697433, 0.8745552587713002021915982262567857030690844268610306217078499479335123061479573, 0.8580965753857733279441124596561712384000000000000000000000000000000000000000314  …  0.1810793226937462318090339891393017894934957057348577345486192293760337547900849, 0.1776309031586087009805472204870925241785494001783383361517584195201035246461121, 0.1742481451322462054757902778352648363837795512314618356524214942707614566084341, 0.1709297988116877045521291653737762436333174162217822537072843375595278046461545, 0.1676746381566628325755199588548902801167631369377178341390821173107054021932617, 0.1644814604394566711568122977589713063382413605360035823221501866943407758949084, 0.1613490858031737030755827984951386740797296847708847905903042160937474013987371, 0.1582763568282632252169601739706374222339552003338456159202310094139651756600984, 0.1552621381071602629328677485037517256759027952388567996868054041239664840613691, 0.15230531582689785720775802501212492131617990234654842215506236019980408966694]"
     },
     "execution_count": 31,
     "metadata": {},
     "output_type": "execute_result"
    }
   ],
   "source": [
    "analytic = [[occupancyAnalytic(big(n), big(k*n)) for n in 1:max_n] for k in Kvals]"
   ]
  },
  {
   "cell_type": "code",
   "execution_count": 32,
   "metadata": {},
   "outputs": [
    {
     "data": {
      "text/plain": "3-element Array{Array{Float64,1},1}:\n [1.0, 0.872, 0.731, 0.597, 0.49, 0.449, 0.369, 0.296, 0.268, 0.246  …  0.0, 0.0, 0.0, 0.0, 0.0, 0.0, 0.0, 0.0, 0.0, 0.0]\n [1.0, 0.965, 0.922, 0.884, 0.826, 0.784, 0.755, 0.703, 0.668, 0.644  …  0.006, 0.013, 0.006, 0.006, 0.002, 0.01, 0.007, 0.008, 0.006, 0.002]\n [1.0, 0.989, 0.979, 0.954, 0.951, 0.921, 0.921, 0.865, 0.866, 0.859  …  0.175, 0.166, 0.163, 0.168, 0.145, 0.164, 0.174, 0.151, 0.158, 0.159]"
     },
     "execution_count": 32,
     "metadata": {},
     "output_type": "execute_result"
    }
   ],
   "source": [
    "monteCarlo = [[occupanyMC(n,k*n,N) for n in 1:max_n] for k in Kvals]"
   ]
  },
  {
   "cell_type": "code",
   "execution_count": 33,
   "metadata": {},
   "outputs": [
    {
     "data": {
      "image/png": "[encoded data removed]"
     },
     "execution_count": 33,
     "metadata": {},
     "output_type": "execute_result"
    }
   ],
   "source": [
    "plot(1:max_n, analytic, c=[:blue :red :green],\n",
    "    label=[\"K=2\" \"K=3\" \"K=4\"])\n",
    "scatter!(1:max_n, monteCarlo, mc=:black, shape=:+,\n",
    "    label=\"\", xlims=(0,max_n),ylims=(0,1),\n",
    "    xlabel=\"n Envelopes\", ylabel=\"Probability\", legend=:topright)"
   ]
  },
  {
   "cell_type": "code",
   "execution_count": null,
   "metadata": {},
   "outputs": [],
   "source": []
  }
 ],
 "metadata": {
  "kernelspec": {
   "display_name": "Julia 1.4.1",
   "language": "julia",
   "name": "julia-1.4"
  },
  "language_info": {
   "file_extension": ".jl",
   "mimetype": "application/julia",
   "name": "julia",
   "version": "1.4.1"
  },
  "orig_nbformat": 2
 },
 "nbformat": 4,
 "nbformat_minor": 2
}